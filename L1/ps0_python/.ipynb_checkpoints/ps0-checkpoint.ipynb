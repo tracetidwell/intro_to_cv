{
 "cells": [
  {
   "cell_type": "code",
   "execution_count": 2,
   "metadata": {
    "collapsed": true
   },
   "outputs": [],
   "source": [
    "import cv2\n",
    "import numpy as np\n",
    "import matplotlib.pyplot as plt\n",
    "%matplotlib inline"
   ]
  },
  {
   "cell_type": "code",
   "execution_count": 4,
   "metadata": {
    "collapsed": true
   },
   "outputs": [],
   "source": [
    "# Function to show images using open cv\n",
    "def imshow(img, factor):\n",
    "    cv2.startWindowThread()\n",
    "    cv2.namedWindow('window', cv2.WINDOW_NORMAL)\n",
    "    cv2.resizeWindow('window', (int(img.shape[1]/factor), int(img.shape[0]/factor)))\n",
    "    cv2.imshow('window', img)\n",
    "    cv2.waitKey(0)"
   ]
  },
  {
   "cell_type": "code",
   "execution_count": 3,
   "metadata": {
    "collapsed": true
   },
   "outputs": [],
   "source": [
    "# Part 1\n",
    "# Import 2 images - need to convert to rgb\n",
    "img1_bgr = cv2.imread('input/al_and_trace.png')\n",
    "img2_bgr = cv2.imread('input/al_and_lene.png')\n",
    "img1_rgb = cv2.cvtColor(img1_bgr, cv2.COLOR_BGR2RGB)\n",
    "img2_rgb = cv2.cvtColor(img2_bgr, cv2.COLOR_BGR2RGB)"
   ]
  },
  {
   "cell_type": "code",
   "execution_count": 5,
   "metadata": {},
   "outputs": [
    {
     "data": {
      "text/plain": [
       "True"
      ]
     },
     "execution_count": 5,
     "metadata": {},
     "output_type": "execute_result"
    }
   ],
   "source": [
    "# 1a: import image 1, view it, save it to outputs\n",
    "img1 = cv2.imread('input/al_and_trace.png')\n",
    "imshow(img1, 5)\n",
    "cv2.imwrite('output/ps0-1-a-1.png', img1)"
   ]
  },
  {
   "cell_type": "code",
   "execution_count": 7,
   "metadata": {},
   "outputs": [
    {
     "data": {
      "text/plain": [
       "True"
      ]
     },
     "execution_count": 7,
     "metadata": {},
     "output_type": "execute_result"
    }
   ],
   "source": [
    "# 1b: import image 2, view it, save it to outputs\n",
    "img2 = cv2.imread('input/al_and_lene.png')\n",
    "imshow(img2, 2)\n",
    "cv2.imwrite('output/ps0-1-a-2.png', img1)"
   ]
  },
  {
   "cell_type": "code",
   "execution_count": 9,
   "metadata": {},
   "outputs": [
    {
     "data": {
      "text/plain": [
       "True"
      ]
     },
     "execution_count": 9,
     "metadata": {},
     "output_type": "execute_result"
    }
   ],
   "source": [
    "# 2a: convert image 1 from bgr to rgb\n",
    "img1_rgb = cv2.cvtColor(img1, cv2.COLOR_BGR2RGB)\n",
    "imshow(img1_rgb, 5)\n",
    "cv2.imwrite('output/ps0-2-a-1.png', img1_rgb)"
   ]
  },
  {
   "cell_type": "code",
   "execution_count": 13,
   "metadata": {},
   "outputs": [
    {
     "data": {
      "text/plain": [
       "True"
      ]
     },
     "execution_count": 13,
     "metadata": {},
     "output_type": "execute_result"
    }
   ],
   "source": [
    "# 2b: create monochrome image from image 1 green channel\n",
    "img1_g = img1[:, :, 1]\n",
    "imshow(img1_g, 5)\n",
    "cv2.imwrite('output/ps0-2-b-1.png', img1_g)"
   ]
  },
  {
   "cell_type": "code",
   "execution_count": 12,
   "metadata": {},
   "outputs": [
    {
     "data": {
      "text/plain": [
       "True"
      ]
     },
     "execution_count": 12,
     "metadata": {},
     "output_type": "execute_result"
    }
   ],
   "source": [
    "# 2c: create monochrome image from image 1 red channel\n",
    "img1_r = img1[:, :, 2]\n",
    "imshow(img1_r, 5)\n",
    "cv2.imwrite('output/ps0-2-c-1.png', img1_r)"
   ]
  },
  {
   "cell_type": "code",
   "execution_count": null,
   "metadata": {},
   "outputs": [],
   "source": [
    "# 2d: questions to answer"
   ]
  },
  {
   "cell_type": "code",
   "execution_count": 15,
   "metadata": {},
   "outputs": [
    {
     "data": {
      "text/plain": [
       "True"
      ]
     },
     "execution_count": 15,
     "metadata": {},
     "output_type": "execute_result"
    }
   ],
   "source": [
    "# 3a: take center square region of 100x100 from image 1 green \n",
    "#     and insert into center region of image 1 red\n",
    "x_start = int((img1_g.shape[1] - 100) / 2) - 1\n",
    "x_end = int(x_start + 100)\n",
    "y_start = int((img1_g.shape[0] - 100) / 2) - 1\n",
    "y_end = int(y_start + 100)\n",
    "\n",
    "img1_g_center = img1_g[y_start:y_end, x_start:x_end]\n",
    "\n",
    "img1_r_g_center = img1_r.copy()\n",
    "img1_r_g_center[y_start:y_end, x_start:x_end] = img1_g_center\n",
    "imshow(img1_r_g_center, 5)\n",
    "cv2.imwrite('output/ps0-3-a-1.png', img1_r_g_center)"
   ]
  },
  {
   "cell_type": "code",
   "execution_count": 24,
   "metadata": {},
   "outputs": [
    {
     "name": "stdout",
     "output_type": "stream",
     "text": [
      "Image 1 green - min: 0\n",
      "Image 1 green - max: 255\n",
      "Image 1 green - mean: 81\n",
      "Image 1 green - standard deviation: 57\n"
     ]
    }
   ],
   "source": [
    "# 4a: find min, max, mean, std of image 1 gree\n",
    "img1_g_min = int(np.min(img1_g))\n",
    "img1_g_max = int(np.max(img1_g))\n",
    "img1_g_mean = int(np.mean(img1_g))\n",
    "img1_g_std = int(np.std(img1_g))\n",
    "print('Image 1 green - min: {}'.format(img1_g_min))\n",
    "print('Image 1 green - max: {}'.format(img1_g_max))\n",
    "print('Image 1 green - mean: {}'.format(img1_g_mean))\n",
    "print('Image 1 green - standard deviation: {}'.format(img1_g_std))"
   ]
  },
  {
   "cell_type": "code",
   "execution_count": 26,
   "metadata": {},
   "outputs": [
    {
     "data": {
      "text/plain": [
       "True"
      ]
     },
     "execution_count": 26,
     "metadata": {},
     "output_type": "execute_result"
    }
   ],
   "source": [
    "# 4b: subtract mean from image 1 green, then divide by standard deviation,\n",
    "#     then multiply by 10, then add mean\n",
    "img1_g_op = (((img1_g - img1_g_mean) // img1_g_std) * 10) + img1_g_mean\n",
    "imshow(img1_g_op, 5)\n",
    "cv2.imwrite('output/ps0-4-b-1.png', img1_g_op)"
   ]
  },
  {
   "cell_type": "code",
   "execution_count": 30,
   "metadata": {},
   "outputs": [
    {
     "data": {
      "text/plain": [
       "True"
      ]
     },
     "execution_count": 30,
     "metadata": {},
     "output_type": "execute_result"
    }
   ],
   "source": [
    "# 4c: shift image 1 green to the left by 2 pixels\n",
    "rows, cols = img1_g.shape\n",
    "M = np.float32([[1, 0, -2], [0, 1, 0]])\n",
    "img1_g_shift = cv2.warpAffine(img1_g, M, (cols, rows))\n",
    "imshow(img1_g_shift, 5)\n",
    "cv2.imwrite('output/ps0-4-c-1.png', img1_g_shift)"
   ]
  },
  {
   "cell_type": "code",
   "execution_count": 32,
   "metadata": {},
   "outputs": [
    {
     "data": {
      "text/plain": [
       "True"
      ]
     },
     "execution_count": 32,
     "metadata": {},
     "output_type": "execute_result"
    }
   ],
   "source": [
    "# 4d: subtract shifted version of image 1 green from the original\n",
    "img1_g_diff = img1_g - img1_g_shift\n",
    "imshow(img1_g_diff, 5)\n",
    "cv2.imwrite('output/ps0-4-d-1.png', img1_g_diff)"
   ]
  },
  {
   "cell_type": "code",
   "execution_count": 37,
   "metadata": {},
   "outputs": [
    {
     "data": {
      "text/plain": [
       "True"
      ]
     },
     "execution_count": 37,
     "metadata": {},
     "output_type": "execute_result"
    }
   ],
   "source": [
    "# 5a: add Gaussian noise to image 1 green channel until noise is visible\n",
    "img1_blur = img1.copy()\n",
    "img1_blur_g = cv2.GaussianBlur(img1[:, :, 1], (101, 101), 100)\n",
    "img1_blur[:, :, 1] = img1_blur_g\n",
    "imshow(img1_blur, 5)\n",
    "cv2.imwrite('output/ps0-5-a-1.png', img1_blur)"
   ]
  },
  {
   "cell_type": "code",
   "execution_count": 39,
   "metadata": {},
   "outputs": [
    {
     "data": {
      "text/plain": [
       "True"
      ]
     },
     "execution_count": 39,
     "metadata": {},
     "output_type": "execute_result"
    }
   ],
   "source": [
    "# 5b: add Gaussian noise to image 1 blue channel until noise is visible\n",
    "img2_blur = img1.copy()\n",
    "img2_blur_b = cv2.GaussianBlur(img1[:, :, 0], (101, 101), 100)\n",
    "img2_blur[:, :, 0] = img2_blur_b\n",
    "imshow(img2_blur, 5)\n",
    "cv2.imwrite('output/ps0-5-b-1.png', img2_blur)"
   ]
  }
 ],
 "metadata": {
  "anaconda-cloud": {},
  "kernelspec": {
   "display_name": "Python [conda env:opencv]",
   "language": "python",
   "name": "conda-env-opencv-py"
  },
  "language_info": {
   "codemirror_mode": {
    "name": "ipython",
    "version": 3
   },
   "file_extension": ".py",
   "mimetype": "text/x-python",
   "name": "python",
   "nbconvert_exporter": "python",
   "pygments_lexer": "ipython3",
   "version": "3.6.3"
  }
 },
 "nbformat": 4,
 "nbformat_minor": 2
}
